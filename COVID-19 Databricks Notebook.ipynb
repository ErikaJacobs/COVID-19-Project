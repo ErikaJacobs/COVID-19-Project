{
 "cells": [
  {
   "cell_type": "code",
   "execution_count": 1,
   "metadata": {},
   "outputs": [
    {
     "data": {
      "text/html": [
       "<style scoped>\n",
       "  .ansiout {\n",
       "    display: block;\n",
       "    unicode-bidi: embed;\n",
       "    white-space: pre-wrap;\n",
       "    word-wrap: break-word;\n",
       "    word-break: break-all;\n",
       "    font-family: \"Source Code Pro\", \"Menlo\", monospace;;\n",
       "    font-size: 13px;\n",
       "    color: #555;\n",
       "    margin-left: 4px;\n",
       "    line-height: 19px;\n",
       "  }\n",
       "</style>\n",
       "<div class=\"ansiout\"></div>"
      ]
     },
     "metadata": {},
     "output_type": "display_data"
    }
   ],
   "source": [
    "# Connect to AWS - Save Final Product\n",
    "\n",
    "aws_access_key_id = 'ACCESS_KEY'\n",
    "aws_secret_access_key = 'SECRET_ID'\n",
    "sc._jsc.hadoopConfiguration().set(\"fs.s3n.awsAccessKeyId\", aws_access_key_id)\n",
    "sc._jsc.hadoopConfiguration().set(\"fs.s3n.awsSecretAccessKey\", aws_secret_access_key)"
   ]
  },
  {
   "cell_type": "code",
   "execution_count": 2,
   "metadata": {},
   "outputs": [
    {
     "data": {
      "text/html": [
       "<style scoped>\n",
       "  .ansiout {\n",
       "    display: block;\n",
       "    unicode-bidi: embed;\n",
       "    white-space: pre-wrap;\n",
       "    word-wrap: break-word;\n",
       "    word-break: break-all;\n",
       "    font-family: \"Source Code Pro\", \"Menlo\", monospace;;\n",
       "    font-size: 13px;\n",
       "    color: #555;\n",
       "    margin-left: 4px;\n",
       "    line-height: 19px;\n",
       "  }\n",
       "</style>\n",
       "<div class=\"ansiout\"></div>"
      ]
     },
     "metadata": {},
     "output_type": "display_data"
    }
   ],
   "source": [
    "from datetime import datetime, date, timedelta\n",
    "import dateutil.relativedelta\n",
    "import pandas\n",
    "\n",
    "# Setting Current Date - Based on Run Date\n",
    "now = (datetime.date(datetime.now()))\n",
    "\n",
    "# Is Today's CSV File Available? \n",
    "# If not, \"today\" actually needs to be yesterday\n",
    "\n",
    "def whenistoday():\n",
    "  today = now.strftime(\"%m-%d-%Y\")\n",
    "  \n",
    "  try:\n",
    "    csv_path = 'https://raw.githubusercontent.com/CSSEGISandData/COVID-19/master/csse_covid_19_data/csse_covid_19_daily_reports/{}.csv'.format(today)\n",
    "    # Path Test\n",
    "    df = pandas.read_csv(csv_path, nrows = 5)\n",
    "    return(today)\n",
    "  except:\n",
    "    today = (now - timedelta(days = 1)).strftime(\"%m-%d-%Y\")\n",
    "    return(today)\n",
    "\n",
    "today = whenistoday()\n",
    "\n",
    "if now != today:\n",
    "  now = (now - timedelta(days = 1))\n",
    "\n",
    "# Setting Other Relative Dates\n",
    "yesterday = (now - timedelta(days = 1)).strftime(\"%m-%d-%Y\")\n",
    "twoday = (now - timedelta(days = 2)).strftime(\"%m-%d-%Y\")\n",
    "threeday = (now - timedelta(days = 3)).strftime(\"%m-%d-%Y\")\n",
    "fourday = (now - timedelta(days = 4)).strftime(\"%m-%d-%Y\")\n",
    "fiveday = (now - timedelta(days = 5)).strftime(\"%m-%d-%Y\")\n",
    "sixday = (now - timedelta(days = 6)).strftime(\"%m-%d-%Y\")\n",
    "oneweek = (now - timedelta(days = 7)).strftime(\"%m-%d-%Y\")\n",
    "twoweek = (now - timedelta(days = 14)).strftime(\"%m-%d-%Y\")\n",
    "threeweek = (now - timedelta(days = 21)).strftime(\"%m-%d-%Y\")\n",
    "\n",
    "# Setting Relative Date - One Month Ago\n",
    "# onemonth = now - dateutil.relativedelta.relativedelta(months=1)\n",
    "# onemonth = datetime.strptime(str(onemonth) , '%Y-%m-%d').strftime(\"%m-%d-%Y\")"
   ]
  },
  {
   "cell_type": "code",
   "execution_count": 3,
   "metadata": {},
   "outputs": [
    {
     "data": {
      "text/html": [
       "<style scoped>\n",
       "  .ansiout {\n",
       "    display: block;\n",
       "    unicode-bidi: embed;\n",
       "    white-space: pre-wrap;\n",
       "    word-wrap: break-word;\n",
       "    word-break: break-all;\n",
       "    font-family: \"Source Code Pro\", \"Menlo\", monospace;;\n",
       "    font-size: 13px;\n",
       "    color: #555;\n",
       "    margin-left: 4px;\n",
       "    line-height: 19px;\n",
       "  }\n",
       "</style>\n",
       "<div class=\"ansiout\">Out[5]: []</div>"
      ]
     },
     "metadata": {},
     "output_type": "display_data"
    }
   ],
   "source": [
    "# Prepare Loop for Import\n",
    "\n",
    "from pyspark import SparkFiles, SparkContext\n",
    "from pyspark.sql import SQLContext\n",
    "import pandas as pd\n",
    "import s3fs\n",
    "import boto3\n",
    "\n",
    "timeframes = [today, yesterday, twoday, threeday, fourday, fiveday, sixday, oneweek, twoweek, threeweek]\n",
    "\n",
    "# Clear Old Files\n",
    "s3 = boto3.resource('s3', aws_access_key_id=aws_access_key_id, aws_secret_access_key=aws_secret_access_key)\n",
    "bucket = s3.Bucket('erikatestbucket')\n",
    "bucket.objects.filter(Prefix=\"COVID-19/\").delete()"
   ]
  },
  {
   "cell_type": "code",
   "execution_count": 4,
   "metadata": {},
   "outputs": [
    {
     "data": {
      "text/html": [
       "<style scoped>\n",
       "  .ansiout {\n",
       "    display: block;\n",
       "    unicode-bidi: embed;\n",
       "    white-space: pre-wrap;\n",
       "    word-wrap: break-word;\n",
       "    word-break: break-all;\n",
       "    font-family: \"Source Code Pro\", \"Menlo\", monospace;;\n",
       "    font-size: 13px;\n",
       "    color: #555;\n",
       "    margin-left: 4px;\n",
       "    line-height: 19px;\n",
       "  }\n",
       "</style>\n",
       "<div class=\"ansiout\"></div>"
      ]
     },
     "metadata": {},
     "output_type": "display_data"
    }
   ],
   "source": [
    "# Loop to import files from Johns Hopkins CSSEGIS GitHub\n",
    "\n",
    "for time in timeframes:\n",
    "  url = 'https://raw.githubusercontent.com/CSSEGISandData/COVID-19/master/csse_covid_19_data/csse_covid_19_daily_reports/{}.csv'.format(time)\n",
    "  \n",
    "  # Read CSV via Pandas\n",
    "  pandasdf = pandas.read_csv(url)\n",
    "  tables = dict\n",
    "  \n",
    "  # Write CSV via Pandas\n",
    "  \n",
    "  bytes_to_write = pandasdf.to_csv(None, index = False).encode()\n",
    "  fs = s3fs.S3FileSystem(key=aws_access_key_id, secret=aws_secret_access_key)\n",
    "  with fs.open('s3://erikatestbucket/COVID-19/{}.csv'.format(time), 'wb') as f:\n",
    "    f.write(bytes_to_write)"
   ]
  },
  {
   "cell_type": "code",
   "execution_count": 5,
   "metadata": {},
   "outputs": [
    {
     "data": {
      "text/html": [
       "<style scoped>\n",
       "  .ansiout {\n",
       "    display: block;\n",
       "    unicode-bidi: embed;\n",
       "    white-space: pre-wrap;\n",
       "    word-wrap: break-word;\n",
       "    word-break: break-all;\n",
       "    font-family: \"Source Code Pro\", \"Menlo\", monospace;;\n",
       "    font-size: 13px;\n",
       "    color: #555;\n",
       "    margin-left: 4px;\n",
       "    line-height: 19px;\n",
       "  }\n",
       "</style>\n",
       "<div class=\"ansiout\"></div>"
      ]
     },
     "metadata": {},
     "output_type": "display_data"
    }
   ],
   "source": [
    "# UDF to Import Tables (Without using dictionary)\n",
    "def importdf(time):\n",
    "  df = spark.read.csv('s3://erikatestbucket/COVID-19/{}.csv'.format(time), header = True, inferSchema = True)\n",
    "  return(df)\n",
    "\n",
    "# Import Tables\n",
    "dftoday = importdf(today)\n",
    "dfyesterday = importdf(yesterday)\n",
    "dftwoday = importdf(twoday)\n",
    "dfthreeday = importdf(threeday)\n",
    "dffourday = importdf(fourday)\n",
    "dffiveday = importdf(fiveday)\n",
    "dfsixday = importdf(sixday)\n",
    "dfoneweek = importdf(oneweek)\n",
    "dftwoweek = importdf(twoweek)\n",
    "dfthreeweek = importdf(threeweek)"
   ]
  },
  {
   "cell_type": "code",
   "execution_count": 6,
   "metadata": {},
   "outputs": [
    {
     "data": {
      "text/html": [
       "<style scoped>\n",
       "  .ansiout {\n",
       "    display: block;\n",
       "    unicode-bidi: embed;\n",
       "    white-space: pre-wrap;\n",
       "    word-wrap: break-word;\n",
       "    word-break: break-all;\n",
       "    font-family: \"Source Code Pro\", \"Menlo\", monospace;;\n",
       "    font-size: 13px;\n",
       "    color: #555;\n",
       "    margin-left: 4px;\n",
       "    line-height: 19px;\n",
       "  }\n",
       "</style>\n",
       "<div class=\"ansiout\"></div>"
      ]
     },
     "metadata": {},
     "output_type": "display_data"
    }
   ],
   "source": [
    "# Creating New df\n",
    "df = dftoday.select('FIPS', 'Admin2', 'Province_State', 'Country_Region', 'Confirmed', 'Deaths', 'Recovered', 'Active')\\\n",
    ".withColumnRenamed(\"FIPS\", \"ID\")\\\n",
    ".withColumnRenamed('Confirmed', 'Confirmed0')\\\n",
    ".withColumnRenamed('Deaths', 'Deaths0')\\\n",
    ".withColumnRenamed('Recovered', 'Recovered0')\\\n",
    ".withColumnRenamed('Active', 'Active0')"
   ]
  },
  {
   "cell_type": "code",
   "execution_count": 7,
   "metadata": {},
   "outputs": [
    {
     "data": {
      "text/html": [
       "<style scoped>\n",
       "  .ansiout {\n",
       "    display: block;\n",
       "    unicode-bidi: embed;\n",
       "    white-space: pre-wrap;\n",
       "    word-wrap: break-word;\n",
       "    word-break: break-all;\n",
       "    font-family: \"Source Code Pro\", \"Menlo\", monospace;;\n",
       "    font-size: 13px;\n",
       "    color: #555;\n",
       "    margin-left: 4px;\n",
       "    line-height: 19px;\n",
       "  }\n",
       "</style>\n",
       "<div class=\"ansiout\"></div>"
      ]
     },
     "metadata": {},
     "output_type": "display_data"
    }
   ],
   "source": [
    "# Prepare Other DFs for Join - Rename Fields\n",
    "# Loop/UDF Later\n",
    "\n",
    "def cleantable(df, num):\n",
    "  df = df.select('FIPS', 'Admin2', 'Province_State', 'Country_Region', 'Confirmed', 'Deaths', 'Recovered', 'Active')\\\n",
    "  .withColumnRenamed(\"FIPS\", \"ID\")\\\n",
    "  .withColumnRenamed('Confirmed', 'Confirmed-{}'.format(num))\\\n",
    "  .withColumnRenamed('Deaths', 'Deaths-{}'.format(num))\\\n",
    "  .withColumnRenamed('Recovered', 'Recovered-{}'.format(num))\\\n",
    "  .withColumnRenamed('Active', 'Active-{}'.format(num))\n",
    "  return df\n",
    "  \n",
    "dfyesterday = cleantable(dfyesterday, '1')\n",
    "dftwoday = cleantable(dftwoday, '2')\n",
    "dfthreeday= cleantable(dfthreeday, '3')\n",
    "dffourday = cleantable(dffourday, '4')\n",
    "dffiveday = cleantable(dffiveday, '5')\n",
    "dfsixday = cleantable(dfsixday, '6')\n",
    "dfoneweek = cleantable(dfoneweek, '7')\n",
    "dftwoweek = cleantable(dftwoweek, '14')\n",
    "dfthreeweek = cleantable(dfthreeweek, '21')"
   ]
  },
  {
   "cell_type": "code",
   "execution_count": 8,
   "metadata": {},
   "outputs": [
    {
     "data": {
      "text/html": [
       "<style scoped>\n",
       "  .ansiout {\n",
       "    display: block;\n",
       "    unicode-bidi: embed;\n",
       "    white-space: pre-wrap;\n",
       "    word-wrap: break-word;\n",
       "    word-break: break-all;\n",
       "    font-family: \"Source Code Pro\", \"Menlo\", monospace;;\n",
       "    font-size: 13px;\n",
       "    color: #555;\n",
       "    margin-left: 4px;\n",
       "    line-height: 19px;\n",
       "  }\n",
       "</style>\n",
       "<div class=\"ansiout\">Out[92]: True</div>"
      ]
     },
     "metadata": {},
     "output_type": "display_data"
    }
   ],
   "source": [
    "# Join Tables Together\n",
    "\n",
    "tables = [dfyesterday, dftwoday, dfthreeday, dffourday, dffiveday, dfsixday, dfoneweek, dftwoweek, dfthreeweek]\n",
    "col_list=[\"ID\",\"Admin2\",\"Province_State\", \"Country_Region\"]\n",
    "\n",
    "def join(df, table):\n",
    "  df = df.join(table, col_list, \"left_outer\")\n",
    "  return df\n",
    "\n",
    "for t in tables:\n",
    "  df = join(df, t)\n",
    "  \n",
    "# Check that row count remains the same\n",
    "df.count() == dftoday.count()"
   ]
  },
  {
   "cell_type": "code",
   "execution_count": 9,
   "metadata": {},
   "outputs": [
    {
     "data": {
      "text/html": [
       "<style scoped>\n",
       "  .ansiout {\n",
       "    display: block;\n",
       "    unicode-bidi: embed;\n",
       "    white-space: pre-wrap;\n",
       "    word-wrap: break-word;\n",
       "    word-break: break-all;\n",
       "    font-family: \"Source Code Pro\", \"Menlo\", monospace;;\n",
       "    font-size: 13px;\n",
       "    color: #555;\n",
       "    margin-left: 4px;\n",
       "    line-height: 19px;\n",
       "  }\n",
       "</style>\n",
       "<div class=\"ansiout\">Out[6]: &#39;04-19-2020&#39;</div>"
      ]
     },
     "metadata": {},
     "output_type": "display_data"
    }
   ],
   "source": [
    "# Make New Fields - Reduce Table"
   ]
  },
  {
   "cell_type": "code",
   "execution_count": 10,
   "metadata": {},
   "outputs": [
    {
     "data": {
      "text/html": [
       "<style scoped>\n",
       "  .ansiout {\n",
       "    display: block;\n",
       "    unicode-bidi: embed;\n",
       "    white-space: pre-wrap;\n",
       "    word-wrap: break-word;\n",
       "    word-break: break-all;\n",
       "    font-family: \"Source Code Pro\", \"Menlo\", monospace;;\n",
       "    font-size: 13px;\n",
       "    color: #555;\n",
       "    margin-left: 4px;\n",
       "    line-height: 19px;\n",
       "  }\n",
       "</style>\n",
       "<div class=\"ansiout\"></div>"
      ]
     },
     "metadata": {},
     "output_type": "display_data"
    }
   ],
   "source": [
    "# Aggregate By Country - Reduce Table Size"
   ]
  },
  {
   "cell_type": "code",
   "execution_count": 11,
   "metadata": {},
   "outputs": [],
   "source": []
  }
 ],
 "metadata": {
  "kernelspec": {
   "display_name": "Python 3",
   "language": "python",
   "name": "python3"
  },
  "language_info": {
   "codemirror_mode": {
    "name": "ipython",
    "version": 3
   },
   "file_extension": ".py",
   "mimetype": "text/x-python",
   "name": "python",
   "nbconvert_exporter": "python",
   "pygments_lexer": "ipython3",
   "version": "3.7.3"
  },
  "name": "COVID-19 GitHub",
  "notebookId": 4334385660630029
 },
 "nbformat": 4,
 "nbformat_minor": 1
}
